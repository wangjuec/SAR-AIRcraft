{
 "cells": [
  {
   "cell_type": "code",
   "execution_count": 48,
   "metadata": {},
   "outputs": [],
   "source": [
    "import os\n",
    "import xml.etree.ElementTree as ET"
   ]
  },
  {
   "cell_type": "code",
   "execution_count": 49,
   "metadata": {},
   "outputs": [],
   "source": [
    "# 定义 XML 文件路径\n",
    "input_folder = \".\""
   ]
  },
  {
   "cell_type": "code",
   "execution_count": 50,
   "metadata": {},
   "outputs": [],
   "source": [
    "# 定义文件夹路径和输出文件路径\n",
    "input_folder = \".\"  # 替换为你的 XML 文件路径\n",
    "output_file = \"annotations.xml\""
   ]
  },
  {
   "cell_type": "code",
   "execution_count": 51,
   "metadata": {},
   "outputs": [],
   "source": [
    "# 创建根节点\n",
    "root = ET.Element(\"annotations\")"
   ]
  },
  {
   "cell_type": "code",
   "execution_count": 52,
   "metadata": {},
   "outputs": [],
   "source": [
    "# 遍历所有 XML 文件\n",
    "for filename in os.listdir(input_folder):\n",
    "    if filename.endswith(\".xml\"):\n",
    "        file_path = os.path.join(input_folder, filename)\n",
    "        tree = ET.parse(file_path)\n",
    "        annotation_root = tree.getroot()\n",
    "\n",
    "        # 添加 <filename> 子节点\n",
    "        filename_node = ET.Element(\"filename\")\n",
    "        image_name = os.path.splitext(filename)[0] + \".jpg\"\n",
    "        filename_node.text = image_name\n",
    "        annotation_root.insert(0, filename_node)  # 插入到 <annotation> 节点的开头\n",
    "\n",
    "        # 将整个 <annotation> 节点添加到合并的根节点下\n",
    "        root.append(annotation_root)"
   ]
  },
  {
   "cell_type": "code",
   "execution_count": 53,
   "metadata": {},
   "outputs": [
    {
     "name": "stdout",
     "output_type": "stream",
     "text": [
      "所有 XML 文件已合并到 annotations.xml\n"
     ]
    }
   ],
   "source": [
    "# 将合并后的内容写入文件\n",
    "tree = ET.ElementTree(root)\n",
    "tree.write(output_file, encoding=\"utf-8\", xml_declaration=True)\n",
    "\n",
    "print(f\"所有 XML 文件已合并到 {output_file}\")"
   ]
  },
  {
   "cell_type": "code",
   "execution_count": 54,
   "metadata": {},
   "outputs": [],
   "source": [
    "# for filename in os.listdir(input_folder):\n",
    "#     if filename.endswith(\".xml\"):\n",
    "#         file_path = os.path.join(input_folder, filename)\n",
    "#         tree = ET.parse(file_path)\n",
    "#         root = tree.getroot()\n",
    "#         print(file_path)\n",
    "#         print(tree)\n",
    "#         print(root)\n",
    "\n",
    "#         # 遍历所有的 <object> 节点\n",
    "#         for obj in root.findall(\"object\"):\n",
    "#             name = obj.find(\"name\").text\n",
    "#             pose = obj.find(\"pose\").text\n",
    "#             truncated = obj.find(\"truncated\").text\n",
    "#             difficult = obj.find(\"difficult\").text\n",
    "#             bndbox = obj.find(\"bndbox\")\n",
    "#             xmin = bndbox.find(\"xmin\").text\n",
    "#             ymin = bndbox.find(\"ymin\").text\n",
    "#             xmax = bndbox.find(\"xmax\").text\n",
    "#             ymax = bndbox.find(\"ymax\").text\n",
    "        \n",
    "#             print(f\"Name: {name}, Pose: {pose}, Truncated: {truncated}, Difficult: {difficult}, \"\n",
    "#           f\"BBox: ({xmin}, {ymin}, {xmax}, {ymax})\")\n",
    "#     break"
   ]
  }
 ],
 "metadata": {
  "kernelspec": {
   "display_name": "Python 3",
   "language": "python",
   "name": "python3"
  },
  "language_info": {
   "codemirror_mode": {
    "name": "ipython",
    "version": 3
   },
   "file_extension": ".py",
   "mimetype": "text/x-python",
   "name": "python",
   "nbconvert_exporter": "python",
   "pygments_lexer": "ipython3",
   "version": "3.12.7"
  }
 },
 "nbformat": 4,
 "nbformat_minor": 2
}
